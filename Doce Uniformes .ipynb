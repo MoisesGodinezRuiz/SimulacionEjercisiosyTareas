{
 "cells": [
  {
   "cell_type": "markdown",
   "id": "be73dba5",
   "metadata": {},
   "source": [
    "### Método de las 12 uniformes \n",
    "\n",
    "Escribir un código en python para generar una distribución normal por el método de las doce uniformes (usar la función random()). Hacer el histograma y comparar con el generado por la función gauss().\n",
    "\n",
    "Recordemos que en la clase vimos que podiamos generar una variable aleatoria con distribución normal a partir de generar doce variables aleatorias con distribución uniforme $Y \\sim U(0,1)$ \n",
    "\n",
    "$$ X=\\mu + \\sigma \\left[\\sum_{i=1}^{12}Y_{i} -6\\right]$$  "
   ]
  },
  {
   "cell_type": "code",
   "execution_count": 7,
   "id": "9c965c9d",
   "metadata": {},
   "outputs": [
    {
     "data": {
      "image/png": "[encoded data removed]",
      "text/plain": [
       "<Figure size 432x288 with 1 Axes>"
      ]
     },
     "metadata": {
      "needs_background": "light"
     },
     "output_type": "display_data"
    }
   ],
   "source": [
    "#importamos las librerias necesarias\n",
    "\n",
    "import matplotlib.pyplot as plt                  \n",
    "import numpy as np\n",
    "import random\n",
    "from numpy.core.function_base import linspace\n",
    "\n",
    "def doce_uniformes():\n",
    "  u = 0                                   #declaramos el valor de la v.a como cero para generar la sumatoria \n",
    "  for i in range(12):\n",
    "    u= u + random.random()                # Realizamos la sumatoria de las variables aleatorias con distribucion uniforme \n",
    "  u = u - 6                               # Recordemos que la media es cero y la desviación es uno por default en la función random()\n",
    "  return u\n",
    "\n",
    "v = []\n",
    "n = 1000000\n",
    "\n",
    "for i in range(n):\n",
    "  v.append(doce_uniformes())\n",
    "\n",
    "plt.hist(v, density = 1, bins = 100,  color = \"blue\", edgecolor = \"black\")\n",
    "plt.show()"
   ]
  },
  {
   "cell_type": "markdown",
   "id": "3945aba4",
   "metadata": {},
   "source": [
    "### Comparación con la función random.gauss()"
   ]
  },
  {
   "cell_type": "code",
   "execution_count": 6,
   "id": "f322f182",
   "metadata": {},
   "outputs": [
    {
     "data": {
      "image/png": "[encoded data removed]",
      "text/plain": [
       "<Figure size 432x288 with 1 Axes>"
      ]
     },
     "metadata": {
      "needs_background": "light"
     },
     "output_type": "display_data"
    }
   ],
   "source": [
    "num_aleat = [] \n",
    "media = 0\n",
    "desv_est = 1\n",
    "    \n",
    "for i in range(1000000): \n",
    "    temp = random.gauss(media, desv_est) \n",
    "    num_aleat.append(temp) \n",
    "        \n",
    "# Grafica \n",
    "plt.hist(num_aleat, bins = 100, edgecolor = \"black\") \n",
    "plt.show() "
   ]
  },
  {
   "cell_type": "code",
   "execution_count": null,
   "id": "0f769edc",
   "metadata": {},
   "outputs": [],
   "source": []
  }
 ],
 "metadata": {
  "kernelspec": {
   "display_name": "Python 3 (ipykernel)",
   "language": "python",
   "name": "python3"
  },
  "language_info": {
   "codemirror_mode": {
    "name": "ipython",
    "version": 3
   },
   "file_extension": ".py",
   "mimetype": "text/x-python",
   "name": "python",
   "nbconvert_exporter": "python",
   "pygments_lexer": "ipython3",
   "version": "3.10.0"
  }
 },
 "nbformat": 4,
 "nbformat_minor": 5
}
