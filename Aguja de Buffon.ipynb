{
 "cells": [
  {
   "cell_type": "markdown",
   "id": "89c80607",
   "metadata": {},
   "source": [
    "## Simulación del experimento de Buffon "
   ]
  },
  {
   "cell_type": "code",
   "execution_count": null,
   "id": "07c209c3",
   "metadata": {},
   "outputs": [],
   "source": []
  },
  {
   "cell_type": "code",
   "execution_count": 5,
   "id": "1c92d29c",
   "metadata": {},
   "outputs": [
    {
     "name": "stdout",
     "output_type": "stream",
     "text": [
      "Calculando el numero pi\n",
      "pi calculado: 3.118616581684365\n"
     ]
    }
   ],
   "source": [
    "from random import random \n",
    "from math import cos,pi\n",
    "import numpy as np\n",
    "import matplotlib.pyplot as plt\n",
    "long_aguja=1  # Este valor puede cambiarse \n",
    "dist_entre_lineas=1 # Este valor puede cambiarse \n",
    "num_lineas=2\n",
    "def corta(long_aguja,dist_entre_lineas):\n",
    "    #valido solo si l menor o igual que d \n",
    "    x=dist_entre_lineas*random()\n",
    "    y=long_aguja*cos(pi/2*random())\n",
    "    if y>x:\n",
    "        return True\n",
    "    else:\n",
    "        return False \n",
    "\n",
    "intentos = 100000\n",
    "N=0\n",
    "C=0\n",
    "L=0.25\n",
    "D=0.75\n",
    "\n",
    "print(\"Calculando el numero pi\")\n",
    "\n",
    "while N<intentos:\n",
    "    if N%500 == 0:\n",
    "        plt.pause(1/500)\n",
    "    N+=1\n",
    "    if corta(L,D):\n",
    "        C+=1\n",
    "\n",
    "\n",
    "print(\"pi calculado:\" ,(2.0*L*N)/(D*C))"
   ]
  },
  {
   "cell_type": "code",
   "execution_count": null,
   "id": "7a337499",
   "metadata": {},
   "outputs": [],
   "source": []
  },
  {
   "cell_type": "code",
   "execution_count": null,
   "id": "46a98fec",
   "metadata": {},
   "outputs": [],
   "source": []
  }
 ],
 "metadata": {
  "kernelspec": {
   "display_name": "Python 3 (ipykernel)",
   "language": "python",
   "name": "python3"
  },
  "language_info": {
   "codemirror_mode": {
    "name": "ipython",
    "version": 3
   },
   "file_extension": ".py",
   "mimetype": "text/x-python",
   "name": "python",
   "nbconvert_exporter": "python",
   "pygments_lexer": "ipython3",
   "version": "3.10.0"
  }
 },
 "nbformat": 4,
 "nbformat_minor": 5
}
