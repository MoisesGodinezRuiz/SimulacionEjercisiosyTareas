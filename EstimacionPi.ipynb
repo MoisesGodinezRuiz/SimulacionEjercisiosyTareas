{
 "cells": [
  {
   "cell_type": "markdown",
   "id": "1d2c481d",
   "metadata": {},
   "source": [
    "Etimación de pi con Random \n"
   ]
  },
  {
   "cell_type": "code",
   "execution_count": 2,
   "id": "0b648cc8",
   "metadata": {},
   "outputs": [],
   "source": [
    "import numpy as np \n",
    "import random"
   ]
  },
  {
   "cell_type": "code",
   "execution_count": 3,
   "id": "14958461",
   "metadata": {},
   "outputs": [
    {
     "name": "stdout",
     "output_type": "stream",
     "text": [
      "Puntos que caen dentro del círculo 784685\n",
      "Estimación de pi:  3.13874\n"
     ]
    }
   ],
   "source": [
    "num=1000000\n",
    "\n",
    "puntos_dentro=0\n",
    "\n",
    "#Generamos 2 variables aleatorias uniformes que se distribuyen entre -1 y 1, es decir, puede caer dentro del cuadrado \n",
    "#de área 4 cuyos lados miden 2 unidades en el plano xy.De esta misma forma imaginemos un círculo de radio 1 \n",
    "# dentro del cuadrado mencionado\n",
    "\n",
    "for i in range(num):\n",
    "  x= random.uniform(-1,1)  \n",
    "  y= random.uniform(-1,1)\n",
    "  dist=(x**2 + y**2)**0.5  #calculamos la distancia entre el punto y el origen\n",
    "  if dist <= 1: # checamos si el punto cae dentro del círculo\n",
    "   puntos_dentro+=1\n",
    "\n",
    "print(\"Puntos que caen dentro del círculo\", puntos_dentro)\n",
    "\n",
    "#aproximación de pi\n",
    "\n",
    "aproxpi=4*puntos_dentro/ num\n",
    "\n",
    "print(\"Estimación de pi: \", aproxpi)"
   ]
  },
  {
   "cell_type": "code",
   "execution_count": null,
   "id": "f0fb3cb6",
   "metadata": {},
   "outputs": [],
   "source": []
  },
  {
   "cell_type": "code",
   "execution_count": null,
   "id": "302b9683",
   "metadata": {},
   "outputs": [],
   "source": []
  }
 ],
 "metadata": {
  "kernelspec": {
   "display_name": "Python 3 (ipykernel)",
   "language": "python",
   "name": "python3"
  },
  "language_info": {
   "codemirror_mode": {
    "name": "ipython",
    "version": 3
   },
   "file_extension": ".py",
   "mimetype": "text/x-python",
   "name": "python",
   "nbconvert_exporter": "python",
   "pygments_lexer": "ipython3",
   "version": "3.10.0"
  }
 },
 "nbformat": 4,
 "nbformat_minor": 5
}
