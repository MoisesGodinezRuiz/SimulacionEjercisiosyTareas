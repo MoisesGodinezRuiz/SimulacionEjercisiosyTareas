{
 "cells": [
  {
   "cell_type": "markdown",
   "id": "e1cd9f8b",
   "metadata": {},
   "source": [
    "**Ejercicios de Clase**\n",
    "\n",
    "Ejercicio 1:\n",
    "\n",
    "a) Usar la función random() para simular 1 volado."
   ]
  },
  {
   "cell_type": "code",
   "execution_count": 6,
   "id": "41cbffd0",
   "metadata": {
    "scrolled": true
   },
   "outputs": [
    {
     "name": "stdout",
     "output_type": "stream",
     "text": [
      "águila\n"
     ]
    }
   ],
   "source": [
    "import random \n",
    "\n",
    "numvolados=1  #un volado unicamente \n",
    "\n",
    "#definimos a la variable aleatoria x con los posibles valores x=0 si cae sol y x=1 en caso de caer águila\n",
    "for i in range(numvolados):\n",
    "    x= random.randint(0,1)\n",
    "\n",
    "if x==0:\n",
    "    print(\"sol\")\n",
    "else:\n",
    "    print(\"águila\")\n"
   ]
  },
  {
   "cell_type": "markdown",
   "id": "5a4a2982",
   "metadata": {},
   "source": [
    "b) Usar la función random() para simular 1000 volados"
   ]
  },
  {
   "cell_type": "code",
   "execution_count": 26,
   "id": "444b1c4c",
   "metadata": {},
   "outputs": [
    {
     "name": "stdout",
     "output_type": "stream",
     "text": [
      "1 1 0 0 1 0 1 0 0 0 1 0 0 0 1 1 1 0 0 0 1 0 0 0 0 0 1 1 1 1 1 1 0 1 0 0 1 0 1 0 1 1 0 0 1 0 0 1 1 0 0 0 0 0 0 1 1 0 1 1 0 0 1 0 0 1 0 1 0 1 1 1 1 1 0 0 1 0 0 0 1 0 0 1 0 0 1 1 0 0 1 1 1 1 0 0 1 0 1 0 1 1 0 1 0 0 1 1 0 0 1 0 1 0 1 1 1 1 1 0 1 1 0 1 1 0 0 0 0 0 1 0 1 1 0 0 1 1 0 1 1 1 0 1 1 1 1 0 1 1 1 0 1 0 1 0 1 1 0 0 0 1 0 1 0 0 1 0 1 0 1 1 0 0 0 0 0 1 0 1 0 0 0 1 1 1 1 1 0 1 0 0 1 1 1 0 0 0 1 1 0 1 0 1 1 0 1 1 0 0 0 0 0 1 1 0 0 1 1 0 0 1 0 1 0 0 0 1 1 0 1 1 1 0 1 0 0 0 1 1 0 1 0 1 1 1 1 0 0 0 0 1 1 0 1 1 0 1 1 1 1 0 1 0 0 0 0 0 1 0 1 1 1 1 1 0 1 1 1 0 1 1 1 0 1 1 0 1 0 0 1 1 1 1 0 0 1 1 0 1 0 0 0 0 1 1 1 0 1 0 1 1 0 0 0 1 0 0 0 0 1 0 0 1 0 0 0 1 1 0 0 1 1 0 0 0 0 1 1 1 0 1 0 0 0 1 1 1 0 0 1 1 0 0 0 1 0 1 1 1 1 0 0 0 1 0 0 1 0 1 1 1 1 0 0 0 1 0 1 0 0 0 1 0 1 0 0 0 1 0 0 0 1 0 1 1 0 1 0 1 0 0 0 1 1 1 1 0 1 1 1 1 1 0 1 1 1 0 0 0 1 1 0 1 0 1 1 0 1 1 1 1 0 0 0 1 1 1 0 1 0 0 0 0 1 1 0 1 0 1 1 0 0 0 1 0 0 0 1 1 1 0 0 0 0 0 0 0 1 1 1 1 1 0 0 0 0 1 0 1 1 0 0 1 1 1 1 0 1 0 1 1 1 1 0 1 0 0 0 0 0 0 1 0 0 1 1 1 0 1 0 1 0 1 0 1 0 0 0 1 0 1 0 0 1 1 1 1 0 1 1 0 1 0 0 0 1 1 0 1 0 1 0 1 1 0 1 0 1 1 0 1 0 1 1 0 0 0 0 1 1 0 0 0 0 0 0 0 0 1 1 0 0 0 0 1 0 0 1 1 0 0 0 0 0 1 0 0 0 1 1 1 0 1 0 1 0 0 1 0 1 1 1 1 1 1 1 0 1 1 0 1 0 0 1 0 0 0 0 1 0 0 0 0 0 1 1 0 0 1 1 0 0 0 1 1 1 1 1 0 1 1 1 1 0 0 1 0 1 0 0 0 0 1 0 1 1 1 1 1 0 0 1 0 0 0 1 0 0 1 1 0 0 1 1 0 1 0 0 1 0 1 0 1 1 1 0 1 0 0 0 1 1 0 0 0 1 1 0 0 0 0 1 0 1 0 1 0 1 1 0 1 0 1 0 0 0 0 1 0 0 1 1 0 0 1 0 0 0 0 1 0 1 0 1 0 1 0 0 1 1 0 1 1 1 0 1 1 1 0 1 0 1 0 1 0 1 0 0 0 0 1 0 0 1 0 0 0 1 0 1 1 0 0 1 1 0 1 1 0 1 1 0 1 0 1 1 0 0 1 0 1 1 1 0 1 0 1 1 0 0 0 0 0 0 1 1 1 0 0 0 1 1 0 1 1 1 0 0 1 0 0 0 1 1 1 1 0 0 1 1 1 1 1 1 1 1 0 0 1 0 1 1 1 1 1 1 1 1 1 1 1 1 0 1 0 1 0 1 1 1 1 1 1 0 1 0 1 1 1 0 0 1 0 1 0 0 1 0 0 1 0 1 0 1 0 0 1 0 0 0 0 0 0 0 1 0 0 1 0 1 1 0 1 1 1 1 0 0 1 0 0 1 0 0 1 1 1 1 1 1 1 1 0 0 1 1 1 1 0 0 0 0 1 1 0 0 0 1 0 1 1 1 1 1 1 0 0 1 0 0 1 1 0 0 0 0 1 1 0 1 1 1 0 0 0 0 0 0 0 1 1 1 1 1 0 0 1 0 0 1 0 1 1 0 1 1 1 0 1 1 1 0 0 1 1 1 1 1 0 "
     ]
    }
   ],
   "source": [
    "numvol=1000 #1000 volados\n",
    "\n",
    "#definimos a la variable aleatoria y con los posibles valores x=0 si cae sol y x=1 en caso de caer águila\n",
    "\n",
    "for i in range(numvol):\n",
    "    y=print(random.randint(0,1),end=' ')\n",
    "    "
   ]
  },
  {
   "cell_type": "markdown",
   "id": "b558516f",
   "metadata": {},
   "source": [
    "c)Determinar de b) la probabilidad de que ocurra \"sol\" en un volado. "
   ]
  },
  {
   "cell_type": "code",
   "execution_count": 41,
   "id": "6560dde7",
   "metadata": {},
   "outputs": [
    {
     "name": "stdout",
     "output_type": "stream",
     "text": [
      "La probabilidad de que caiga sol es de:  0.499\n"
     ]
    }
   ],
   "source": [
    "num=1000 #1000 volados\n",
    "\n",
    "numsoles=0\n",
    "\n",
    "#definimos a la variable aleatoria y con los posibles valores x=0 si cae sol y x=1 en caso de caer águila\n",
    "\n",
    "\n",
    "for i in range(num):\n",
    "    y=random.randint(0,1)\n",
    "    \n",
    "    if y==0: \n",
    "     numsoles+=1\n",
    "\n",
    "prob=numsoles/numvol\n",
    "\n",
    "print(\"La probabilidad de que caiga sol es de: \", prob)"
   ]
  },
  {
   "cell_type": "markdown",
   "id": "aef9e97b",
   "metadata": {},
   "source": [
    "**Ejercicio 2**\n",
    "\n",
    "a) Simular un sorteo de los colores blanco, negro, rojo, azul y verde."
   ]
  },
  {
   "cell_type": "code",
   "execution_count": 11,
   "id": "799243a0",
   "metadata": {},
   "outputs": [
    {
     "name": "stdout",
     "output_type": "stream",
     "text": [
      "blanco\n"
     ]
    }
   ],
   "source": [
    "v1=[\"blanco\",\"negro\",\"rojo\",\"azul\",\"verde\"]\n",
    "\n",
    "intentos=1\n",
    "\n",
    "for i in range (intentos):\n",
    "    x1=random.randint(0,4)\n",
    "    print(v1[x1])\n"
   ]
  },
  {
   "cell_type": "markdown",
   "id": "90322dfa",
   "metadata": {},
   "source": [
    "b) Simular 5 sorteos con sustitución."
   ]
  },
  {
   "cell_type": "code",
   "execution_count": 12,
   "id": "7eb0e4ef",
   "metadata": {},
   "outputs": [
    {
     "name": "stdout",
     "output_type": "stream",
     "text": [
      "rojo\n",
      "rojo\n",
      "negro\n",
      "negro\n",
      "azul\n"
     ]
    }
   ],
   "source": [
    "v1=[\"blanco\",\"negro\",\"rojo\",\"azul\",\"verde\"]\n",
    "\n",
    "intentos=5\n",
    "\n",
    "for i in range (intentos):\n",
    "    x1=random.randint(0,4)\n",
    "    print(v1[x1])\n"
   ]
  },
  {
   "cell_type": "markdown",
   "id": "e864c9da",
   "metadata": {},
   "source": [
    "Graficar las salidas obtenidas en la Tarea 1"
   ]
  },
  {
   "cell_type": "code",
   "execution_count": 32,
   "id": "2d602464",
   "metadata": {},
   "outputs": [
    {
     "data": {
      "image/png": "[encoded data removed]",
      "text/plain": [
       "<Figure size 432x288 with 1 Axes>"
      ]
     },
     "metadata": {
      "needs_background": "light"
     },
     "output_type": "display_data"
    }
   ],
   "source": [
    "import matplotlib.pyplot as plt\n",
    "import numpy as np\n",
    "\n",
    "num=1000\n",
    "u1=[]\n",
    "u2=[]\n",
    "\n",
    "puntos_dentro=0\n",
    "\n",
    "for i in range(num):\n",
    "  x_1= random.uniform(-1,1) \n",
    "  u1.append(x_1)\n",
    "  y_1= random.uniform(-1,1)\n",
    "  u2.append(y_1)\n",
    "  dist=(x_1**2 + y_1**2)**0.5  #calculamos la distancia entre el punto y el origen\n",
    "  if dist <= 1: # checamos si el punto cae dentro del círculo\n",
    "   puntos_dentro+=1\n",
    "\n",
    "theta = np.linspace(0, 2*np.pi, 100)\n",
    "r = 1\n",
    "a=r*np.cos(theta)\n",
    "b=r*np.sin(theta)# Ecuación del círculo en el primer cuadrante \n",
    "\n",
    "figure, axes=plt.subplots(1)\n",
    "\n",
    "axes.plot(a,b)\n",
    "plt.scatter(u1, u2, s=1, c=\"red\")\n",
    "axes.set_aspect(1)\n",
    "plt.title('Gráfica de puntos dentro y fuera del circulo')\n",
    "plt.show()\n",
    "\n",
    "\n",
    "  \n",
    "\n"
   ]
  },
  {
   "cell_type": "code",
   "execution_count": null,
   "id": "64f0fb27",
   "metadata": {},
   "outputs": [],
   "source": []
  }
 ],
 "metadata": {
  "kernelspec": {
   "display_name": "Python 3 (ipykernel)",
   "language": "python",
   "name": "python3"
  },
  "language_info": {
   "codemirror_mode": {
    "name": "ipython",
    "version": 3
   },
   "file_extension": ".py",
   "mimetype": "text/x-python",
   "name": "python",
   "nbconvert_exporter": "python",
   "pygments_lexer": "ipython3",
   "version": "3.10.0"
  }
 },
 "nbformat": 4,
 "nbformat_minor": 5
}
