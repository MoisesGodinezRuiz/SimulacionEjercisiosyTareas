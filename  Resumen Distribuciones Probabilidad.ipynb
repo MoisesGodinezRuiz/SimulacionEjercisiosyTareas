{
 "cells": [
  {
   "cell_type": "markdown",
   "id": "7db55a09",
   "metadata": {},
   "source": [
    "# Resumen de distribuciones de probabilidad"
   ]
  },
  {
   "cell_type": "markdown",
   "id": "91cfa499",
   "metadata": {},
   "source": [
    "**Definición**\n",
    "\n",
    "Una distribución de probabilidad es una tabla o una condición que conecta cada resultado de una investigación medible con su probabilidad de un evento.\n",
    "\n",
    "**Tipos de variables**\n",
    "\n",
    "1. **Variable aleatoria discreta**: Es aquella que solo toma ciertos valores (frecuentemente enteros) y que resulta principalmente del conteo realizado.\n",
    "\n",
    "2. **Variable aleatoria continua**: Es aquella que resulta generalmente de la medición y puede tomar cualquier valor dentro de un intervalo dado.\n"
   ]
  },
  {
   "cell_type": "markdown",
   "id": "45a6f1e9",
   "metadata": {},
   "source": [
    "## Distribuciones para el caso discreto\n",
    "\n",
    "* ### <font color='red'>Distribución Binomial</font>\n",
    "\n",
    "<img src=\"distribucion binomial.png\" align=\"top\" border=\"1\" alt=\"Función de masa\" width=\"400\" height=\"300\">\n",
    "\n",
    "Es una distribución de probabilidad discreta que cuenta el número de éxitos en una secuencia de **n** ensayos de Bernoulli independientes entre sí con una probabilidad fija **p** de ocurrencia de éxito entre los ensayos. Se caracteriza por ser dicótoma, es decir, solo existen 2 resultados posibles:\n",
    "\n",
    "* **éxito** $\\Longrightarrow$ con probabilidad **p**\n",
    "\n",
    "* **fracaso** $\\Longrightarrow$ con probabilidad **q=1-p**\n",
    " \n",
    "| <font color='red'>Notación</font> | <font color='green'> Función de probabilidad </font>| <font color='blue'>  Función de distribución acumulada</font> | \n",
    "| ---- | ---- | ---- |\n",
    "| <font color='red'> $$  X \\sim Bin (n,p)$$ </font> | <font color='green'> $$P[\\mathbb{X}=x]=\\begin{pmatrix} n\\\\x\\end{pmatrix} p^{x}(1-p)^{n-x}$$ </font>| <font color='blue'> $$F_{\\mathbb{X}}(x)=P[\\mathbb{X}\\leqslant x]=\\displaystyle \\sum_{k=0}^{x} \\begin{pmatrix} n\\\\k\\end{pmatrix} p^{k}(1-p)^{n-k} $$ </font> | \n",
    "\n",
    "\n",
    "| Esperanza | <font color='gray'> Varianza </font> | <font color='brown'>  Función Generadora Momentos </font> |\n",
    "| ---- | ----| ----|\n",
    "|$$E[\\mathbb{X}]=np$$| <font color='gray'>$$Var[\\mathbb{X}]=np(1-p)$$</font>  | <font color='brown'> $$\\left( 1-p+pe^{t} \\right)^{n}$$</font> |\n",
    "\n",
    "\n",
    "\n",
    "\n"
   ]
  },
  {
   "cell_type": "markdown",
   "id": "24586530",
   "metadata": {},
   "source": [
    "* ### <font color='red'>Distribución de Poisson</font>\n",
    "\n",
    "La distribución de Poisson es popular porque modela el número de veces que ocurre un evento en un intervalo de tiempo.Es una distribución de probabilidad discreta que expresa, a partir de una frecuencia de ocurrencia media, la probabilidad de que ocurra un determinado número de eventos durante cierto período de tiempo. Concretamente, se especializa en la probabilidad de ocurrencia de sucesos con probabilidades muy pequeñas, o sucesos «raros».\n",
    "\n",
    "<img src=\"distribucion poisson.png\" align=\"top\" border=\"1\" alt=\"Función de masa\" width=\"400\" height=\"300\">\n",
    "\n",
    "|<font color='red'>Notación</font> | <font color='green'> Función de probabilidad </font>| <font color='blue'>  Función recursiva</font> | \n",
    "| ---- | ---- | ---- |\n",
    "| <font color='red'>$$\\displaystyle X\\sim \\operatorname {Poisson} (\\lambda )$$ </font> | <font color='green'> $$P[\\mathbb{X}=k]= \\frac{e^{-\\lambda}\\lambda^{k}}{k!} $$ | <font color='blue'> $$ P[\\mathbb{X}=k+1]=\\frac{\\lambda}{k+1}P[\\mathbb{X}=k] $$ </font> |\n",
    "    \n",
    "| Esperanza | <font color='gray'> Varianza </font> | <font color='brown'>  Función Generadora Momentos </font> |\n",
    "| ---- | ----| ----|\n",
    "|$$E[\\mathbb{X}]=\\lambda$$| <font color='gray'>$$Var[\\mathbb{X}]=\\lambda$$</font>  | <font color='brown'> $$exp\\left( \\lambda(e^{t}-1)\\right)$$</font> |\n",
    "\n",
    "**Donde:**\n",
    "    \n",
    "$\\lambda>0$ representa el número de veces que se espera que ocurra el fenómeno durante un intervalo dado."
   ]
  },
  {
   "cell_type": "markdown",
   "id": "eb52b915",
   "metadata": {},
   "source": [
    "* ### <font color='red'>Distribución hipergeométrica (eventos dependientes)</font>\n",
    "\n",
    "Es una distribución de probabilidad discreta relacionada con muestreos aleatorios y sin reemplazo. Suponga que se tiene una población de $\\displaystyle N$ elementos de los cuales, $\\displaystyle K$ pertenecen a la categoría $\\displaystyle A$ y $\\displaystyle N-K$ pertenecen a la categoría $\\displaystyle B$. La distribución hipergeométrica mide la probabilidad de obtener $\\displaystyle x$ $(\\displaystyle 0\\leq x\\leq K)$ elementos de la categoría $\\displaystyle A$ en una muestra sin reemplazo de $\\displaystyle n$ elementos de la población original.\n",
    "\n",
    "|<font color='red'> <h3 align=\"center\">Notación</h3> </font> | <font color='green'> <h3 align=\"center\">Función de probabilidad </h3> </font>| <font color='blue'> <h3 align=\"center\"> Función recursiva </h3> </font> | \n",
    "| ---- | ---- | ---- |\n",
    "| <font color='red'>$$\\displaystyle X\\sim \\operatorname {HG} (N,K,n)$$ </font> | <font color='green'> $$P[\\mathbb{X}=x]= \\frac{\\begin{pmatrix} K\\\\x\\end{pmatrix}\\begin{pmatrix} N-K\\\\n-x\\end{pmatrix}}{\\begin{pmatrix} N\\\\n\\end{pmatrix}} $$ | <font color='blue'> $$ =\\frac{(K-x)(n-x)}{(x+1)(N-K-n+x-1)}P[\\mathbb{X}=x] $$ </font> |\n",
    "    \n",
    "| <h3 align=\"center\">Esperanza</h3> | <font color='gray'> <h3 align=\"center\">Varianza</h3> </font> | <font color='brown'> <h3 align=\"center\"> Función Generadora Momentos </h3></font> |\n",
    "| ---- | ----| ----|\n",
    "|$$E[\\mathbb{X}]=\\frac{nK}{N}$$| <font color='gray'>$$Var[\\mathbb{X}]=\\frac{nK}{N}\\left(\\frac{N-K}{N}\\right) \\left(\\frac{N-n}{N-1} \\right)$$</font>  | <font color='brown'> $$\\frac{\\begin{pmatrix} N-K\\\\n\\end{pmatrix}_{2}F_{1}(-n,-K;N-K-n+1;e^{t})}{\\begin{pmatrix} N\\\\n\\end{pmatrix}}$$</font> |\n",
    "\n",
    " \n"
   ]
  },
  {
   "cell_type": "markdown",
   "id": "709d4415",
   "metadata": {},
   "source": [
    "# Distribuciones para el caso continuo\n",
    "\n",
    "* ### <font color='red'>Distribución Normal</font>\n",
    "\n",
    "La importancia de esta distribución radica en que permite modelar numerosos fenómenos naturales, sociales y psicológicos.\n",
    "\n",
    "<img src=\"distribucion normal.png\" align=\"top\" border=\"1\" alt=\"Función de masa\" width=\"400\" height=\"300\">\n",
    "\n",
    "|<font color='red'>Notación</font> | <font color='green'> Función de densidad </font>| <font color='blue'>  Función recursiva</font> | \n",
    "| ---- | ---- | ---- |\n",
    "| <font color='red'>$$\\displaystyle X\\sim N(\\mu,\\sigma^{2} )$$ </font> | <font color='green'> $$\\phi_{\\mu,\\sigma^{2}(\\mathbb{X})}=\\frac{1}{\\sigma\\sqrt{2\\pi}}\\mathbb{e}^{-\\frac{(x-\\mu)^{2}}{2\\sigma^{2}}}$$ | <font color='blue'> $$ \\frac{1}{2}\\left[ 1+erf\\left(\\frac{x-\\mu}{\\sigma\\sqrt{2}}\\right) \\right] $$ </font> |\n",
    "    \n",
    "| Esperanza | <font color='gray'> Varianza </font> | <font color='brown'>  Función Generadora Momentos </font> | <font color='red'><h3 align=\"center\">  Intervalos </h3></font>\n",
    "| ---- | ----| ----| ---- |\n",
    "|$$E[\\mathbb{X}]=\\mu$$| <font color='gray'>$$Var[\\mathbb{X}]=\\sigma^{2}$$</font>  | <font color='brown'> $$M_{\\mathbb{X}}(t)=exp\\left( \\mu t+\\frac{\\sigma^{2}t^{2}}{2}\\right)$$</font> | <font color='red'>  $$ [\\mu-\\sigma,\\mu+\\sigma ]\\rightarrow  \\text{comprende el }68.26 \\% \\\\ [\\mu-2\\sigma,\\mu+2\\sigma ]\\rightarrow \\text{comprende }95.44 \\% \\\\ \\\\ [\\mu-3\\sigma,\\mu+3\\sigma ]\\rightarrow \\text{comprende }99.74 \\%  $$</font>\n"
   ]
  },
  {
   "cell_type": "markdown",
   "id": "b7d8fc57",
   "metadata": {},
   "source": [
    "* ### <font color='red'>Distribución de Cauchy</font>\n",
    "\n",
    "Es conocida como la distribución de Cauchy y en el ámbito de la física se conoce como la distribución de Lorentz, la función Lorentziana o la distribución de Breit-Wigner. Su importancia en la física es dada por ser la solución de la ecuación diferencial que describe la resonancia forzada. En espectroscopia describe la forma de las líneas espectrales que son ampliadas por diversos mecanismos, en particular, el mecanismo de ensanchamiento por colisión.\n",
    "\n",
    "La distribución de Cauchy es un ejemplo de una distribución que no tiene valor esperado, varianza o momentos definidos.\n",
    "\n",
    "<img src=\"distribucion cauchy.png\" align=\"top\" border=\"1\" alt=\"Función de masa\" width=\"400\" height=\"300\">\n",
    "\n",
    "| <font color='green'> Función de densidad </font>| <font color='blue'>  Función de distribución acumulada</font> | \n",
    "| ---- | ---- |\n",
    "| <font color='green'> $$f(x;x_{0},\\gamma)= \\frac{1}{\\pi}\\left[\\frac{\\gamma}{(x-x_{0})^{2}+\\gamma^{2}} \\right]$$ </font>| <font color='blue'> $$\\frac{1}{\\pi}arctan\\left( \\frac{(x-x_{0})}{\\gamma}\\right)+\\frac{1}{2} $$ </font> | \n",
    "\n",
    "Donde $x_{0}$ es el parámetro de corrimiento que específica la ubicación del pico de la distribución, y $\\gamma$ es el parámetro de escala que específica el ancho medio al máximo medio(HWHM)."
   ]
  },
  {
   "cell_type": "markdown",
   "id": "b7d8a503",
   "metadata": {},
   "source": [
    "* ### <font color='red'>Distribución Exponencial</font>\n",
    "\n",
    "La distribución exponencial es una distribución continua que se utiliza para modelar tiempos de espera para la ocurrencia de un cierto evento. Esta distribución al igual que la distribución geométrica tiene la propiedad de pérdida de memoria.Se dice que una variable aleatoria continua $\\displaystyle X$ tiene una distribución exponencial con parámetro $\\displaystyle \\lambda >0$\n",
    "\n",
    "<img src=\"distribucion expo.png\" align=\"top\" border=\"1\" alt=\"Función de masa\" width=\"400\" height=\"300\">\n",
    "\n",
    "\n",
    "|<font color='red'> <h3 align=\"center\">Notación</h3> </font> | <font color='green'> <h3 align=\"center\">Función de densidad</h3> </font>| <font color='blue'> <h3 align=\"center\"> Función distribucion acumulada </h3> </font> | \n",
    "| ---- | ---- | ---- |\n",
    "| <font color='red'>$$\\displaystyle X\\sim Exp (\\lambda)$$ </font> | <font color='green'> $$f_{\\mathbb{X}}(x)= \\lambda e^{-\\lambda x}$$ | <font color='blue'> $$ F_{\\mathbb{X}}(x)= 1-e^{-\\lambda x}$$ </font> |\n",
    "    \n",
    "| <h3 align=\"center\">Esperanza</h3> | <font color='gray'> <h3 align=\"center\">Varianza</h3> </font> | <font color='brown'> <h3 align=\"center\"> Función Generadora Momentos </h3></font> |\n",
    "| ---- | ----| ----|\n",
    "|$$E[\\mathbb{X}]=\\frac{1}{\\lambda}$$| <font color='gray'>$$Var[\\mathbb{X}]=\\frac{1}{\\lambda^{2}}$$</font>  | <font color='brown'> $$M_{\\mathbb{X}}=\\frac{\\lambda}{\\lambda-t}$$</font> |"
   ]
  },
  {
   "cell_type": "code",
   "execution_count": null,
   "id": "dcdf0f76",
   "metadata": {},
   "outputs": [],
   "source": []
  }
 ],
 "metadata": {
  "kernelspec": {
   "display_name": "Python 3 (ipykernel)",
   "language": "python",
   "name": "python3"
  },
  "language_info": {
   "codemirror_mode": {
    "name": "ipython",
    "version": 3
   },
   "file_extension": ".py",
   "mimetype": "text/x-python",
   "name": "python",
   "nbconvert_exporter": "python",
   "pygments_lexer": "ipython3",
   "version": "3.10.0"
  }
 },
 "nbformat": 4,
 "nbformat_minor": 5
}
