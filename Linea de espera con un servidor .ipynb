{
 "cells": [
  {
   "cell_type": "markdown",
   "id": "283b217e",
   "metadata": {},
   "source": [
    "**Simulación de linea de espera con un servidor**\n"
   ]
  },
  {
   "cell_type": "code",
   "execution_count": 3,
   "id": "8140f02a",
   "metadata": {},
   "outputs": [
    {
     "name": "stdout",
     "output_type": "stream",
     "text": [
      "0.7290 1\n",
      "1.1417 2\n",
      "            1.3774 1\n",
      "            1.5472 0\n",
      "2.2566 1\n",
      "2.7370 2\n",
      "2.9267 3\n",
      "3.0944 4\n",
      "            3.4518 3\n",
      "            3.5455 2\n",
      "            3.9568 1\n",
      "5.7192 2\n",
      "            5.8242 1\n",
      "6.9840 2\n",
      "7.1260 3\n",
      "            7.4394 2\n",
      "            7.9349 1\n",
      "8.2556 2\n",
      "            8.3716 1\n",
      "            9.2610 0\n"
     ]
    }
   ],
   "source": [
    "#inmportamos las librerias\n",
    "import random \n",
    "import math\n",
    "\n",
    "def p(x): # definimos nuestra función\n",
    "    z = -(1/x)*math.log(random.random())\n",
    "    return z\n",
    "\n",
    "T = 10 # tiempo de simulacion total\n",
    "pe = 1 \n",
    "ps = 1.5\n",
    "inf = 1000000\n",
    "t = 0 \n",
    "te = 0 \n",
    "ts = 0\n",
    "ta = 0\n",
    "c = 0\n",
    "w = 0\n",
    "\n",
    "while w == 0:\n",
    "    te = p(pe)\n",
    "    ts = p(ps)\n",
    "    if c == 0:\n",
    "        ts = inf\n",
    "    ta = min(te, ts)\n",
    "    \n",
    "    if(ta == te):\n",
    "        h = p(pe)\n",
    "        t = t+h\n",
    "        if(t>T):\n",
    "            t = t-h\n",
    "            w = 1\n",
    "            break\n",
    "        c = c+1\n",
    "        print(\"%.4f\"%t,c)\n",
    "        \n",
    "    else:\n",
    "        t = t+p(ps)\n",
    "        c = c-1\n",
    "        print(\"            %.4f\"%t,c)\n",
    "        \n",
    "while c>0:\n",
    "    t = t+p(ps)\n",
    "    c = c-1\n",
    "    print(\"              %.4f\"%t,c)"
   ]
  },
  {
   "cell_type": "code",
   "execution_count": null,
   "id": "07bb0909",
   "metadata": {},
   "outputs": [],
   "source": []
  }
 ],
 "metadata": {
  "kernelspec": {
   "display_name": "Python 3 (ipykernel)",
   "language": "python",
   "name": "python3"
  },
  "language_info": {
   "codemirror_mode": {
    "name": "ipython",
    "version": 3
   },
   "file_extension": ".py",
   "mimetype": "text/x-python",
   "name": "python",
   "nbconvert_exporter": "python",
   "pygments_lexer": "ipython3",
   "version": "3.10.0"
  }
 },
 "nbformat": 4,
 "nbformat_minor": 5
}
