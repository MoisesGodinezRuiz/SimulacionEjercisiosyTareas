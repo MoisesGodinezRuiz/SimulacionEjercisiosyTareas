{
 "cells": [
  {
   "cell_type": "markdown",
   "id": "4671a5c9",
   "metadata": {},
   "source": [
    "Ajustar el código en que se estima el retraso promedio de la linea de espera para que se despliegue una grafica de escalon de los eventos."
   ]
  },
  {
   "cell_type": "code",
   "execution_count": 4,
   "id": "f6018c68",
   "metadata": {},
   "outputs": [
    {
     "name": "stdout",
     "output_type": "stream",
     "text": [
      "[0.51785273 1.06466983 1.86481412 2.05367181 1.52194078 2.19984421\n",
      " 0.61367859 1.02571508 0.48913438]\n"
     ]
    },
    {
     "data": {
      "image/png": "[encoded data removed]",
      "text/plain": [
       "<Figure size 432x288 with 1 Axes>"
      ]
     },
     "metadata": {
      "needs_background": "light"
     },
     "output_type": "display_data"
    }
   ],
   "source": [
    "import random \n",
    "import math\n",
    "import matplotlib.pyplot as plt \n",
    "import numpy as np\n",
    "\n",
    "def p(x): # definimos nuestra función\n",
    "    z = -(1/x)*math.log(random.random())\n",
    "    return z\n",
    "\n",
    "T = 10 # tiempo de simulacion total\n",
    "pe = 1 \n",
    "ps = 1.5\n",
    "inf = 1000000\n",
    "t = 0  # tiempo de simulacion actual\n",
    "te = 0 # tiempo de espera\n",
    "TE = []\n",
    "TS = []\n",
    "G = []\n",
    "g = 0\n",
    "ts = 0 # tiempo de servicio\n",
    "ta = 0 # tiempo de arribo\n",
    "c = 0\n",
    "w = 0\n",
    "\n",
    "while w == 0:\n",
    "    te = p(pe)\n",
    "    ts = p(ps)\n",
    "    if c == 0:\n",
    "        ts = inf\n",
    "    ta = min(te, ts)\n",
    "    \n",
    "    if(ta == te):\n",
    "        h = p(pe)\n",
    "        t = t+h\n",
    "        if(t>T):\n",
    "            t = t-h\n",
    "            w = 1\n",
    "            break\n",
    "        c = c+1\n",
    "        TE.append(t)\n",
    "        g = g+1\n",
    "        G.append(g)\n",
    "        # print(\"%.4f\"%t,c)\n",
    "        \n",
    "    else:\n",
    "        t = t+p(ps)\n",
    "        c = c-1\n",
    "        TS.append(t)\n",
    "        #print(\"            %.4f\"%t,c)\n",
    "        \n",
    "while c>0:\n",
    "    t = t+p(ps)\n",
    "    c = c-1\n",
    "    TS.append(t)\n",
    "    #print(\"              %.4f\"%t,c)\n",
    "    \n",
    "R = np.subtract(TS,TE)\n",
    "print(R)\n",
    "plt.xlabel(\"Persona N°\")\n",
    "plt.ylabel(\"Tiempo de espera\")\n",
    "plt.step(G, R, where=\"post\",color=\"green\")\n",
    "plt.show()"
   ]
  },
  {
   "cell_type": "code",
   "execution_count": null,
   "id": "11431938",
   "metadata": {},
   "outputs": [],
   "source": []
  }
 ],
 "metadata": {
  "kernelspec": {
   "display_name": "Python 3 (ipykernel)",
   "language": "python",
   "name": "python3"
  },
  "language_info": {
   "codemirror_mode": {
    "name": "ipython",
    "version": 3
   },
   "file_extension": ".py",
   "mimetype": "text/x-python",
   "name": "python",
   "nbconvert_exporter": "python",
   "pygments_lexer": "ipython3",
   "version": "3.10.0"
  }
 },
 "nbformat": 4,
 "nbformat_minor": 5
}
